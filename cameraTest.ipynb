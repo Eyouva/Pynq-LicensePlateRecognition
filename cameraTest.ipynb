{
 "cells": [
  {
   "cell_type": "code",
   "execution_count": 8,
   "metadata": {},
   "outputs": [],
   "source": [
    "from pynq.overlays.base import BaseOverlay\n",
    "from pynq.lib.video import *\n",
    "from matplotlib import pyplot as plt\n",
    "import numpy as np\n",
    "import cv2\n",
    "import time\n",
    "import math\n",
    "\n",
    "base = BaseOverlay(\"base.bit\")\n",
    "\n",
    "\n",
    "    # 定义分类器\n",
    "cascade_path = 'cascade.xml'\n",
    "cascade_car_path = 'cars.xml'\n",
    "car_cascade = cv2.CascadeClassifier(cascade_car_path)\n",
    "cascade = cv2.CascadeClassifier(cascade_path)\n",
    "\n",
    "\n",
    "# monitor configuration: 640*480 @ 24Hz\n",
    "Mode = VideoMode(640,480,24)\n",
    "hdmi_out = base.video.hdmi_out\n",
    "hdmi_out.configure(Mode,PIXEL_BGR)\n",
    "hdmi_out.start()\n",
    "\n",
    "# monitor (output) frame buffer size\n",
    "frame_out_w = 640\n",
    "frame_out_h = 480\n",
    "\n",
    "scale=400/480 #比例系数\n",
    "\n",
    "PLATE_WIDTH=0.44\n"
   ]
  },
  {
   "cell_type": "code",
   "execution_count": 10,
   "metadata": {},
   "outputs": [
    {
     "name": "stdout",
     "output_type": "stream",
     "text": [
      "Capture device is open: True\n"
     ]
    }
   ],
   "source": [
    "cap = cv2.VideoCapture(0)\n",
    "cap.set(cv2.CAP_PROP_FRAME_WIDTH, 640);\n",
    "cap.set(cv2.CAP_PROP_FRAME_HEIGHT, 480);\n",
    "\n",
    "print(\"Capture device is open: \" + str(cap.isOpened()))"
   ]
  },
  {
   "cell_type": "code",
   "execution_count": 13,
   "metadata": {},
   "outputs": [
    {
     "ename": "KeyboardInterrupt",
     "evalue": "",
     "output_type": "error",
     "traceback": [
      "\u001b[0;31m---------------------------------------------------------------------------\u001b[0m",
      "\u001b[0;31mKeyboardInterrupt\u001b[0m                         Traceback (most recent call last)",
      "\u001b[0;32m<ipython-input-13-86a39072a1f8>\u001b[0m in \u001b[0;36m<module>\u001b[0;34m()\u001b[0m\n\u001b[1;32m     12\u001b[0m         \u001b[0mtime_start\u001b[0m\u001b[0;34m=\u001b[0m\u001b[0mtime\u001b[0m\u001b[0;34m.\u001b[0m\u001b[0mtime\u001b[0m\u001b[0;34m(\u001b[0m\u001b[0;34m)\u001b[0m\u001b[0;34m\u001b[0m\u001b[0m\n\u001b[1;32m     13\u001b[0m \u001b[0;34m\u001b[0m\u001b[0m\n\u001b[0;32m---> 14\u001b[0;31m         \u001b[0mimage\u001b[0m\u001b[0;34m=\u001b[0m\u001b[0mcv2\u001b[0m\u001b[0;34m.\u001b[0m\u001b[0mresize\u001b[0m\u001b[0;34m(\u001b[0m\u001b[0mframe\u001b[0m\u001b[0;34m,\u001b[0m\u001b[0;34m(\u001b[0m\u001b[0mint\u001b[0m\u001b[0;34m(\u001b[0m\u001b[0;36m640\u001b[0m\u001b[0;34m*\u001b[0m\u001b[0mscale\u001b[0m\u001b[0;34m)\u001b[0m\u001b[0;34m,\u001b[0m\u001b[0;36m400\u001b[0m\u001b[0;34m)\u001b[0m\u001b[0;34m)\u001b[0m\u001b[0;34m\u001b[0m\u001b[0m\n\u001b[0m\u001b[1;32m     15\u001b[0m         \u001b[0moutframe\u001b[0m \u001b[0;34m=\u001b[0m \u001b[0mhdmi_out\u001b[0m\u001b[0;34m.\u001b[0m\u001b[0mnewframe\u001b[0m\u001b[0;34m(\u001b[0m\u001b[0;34m)\u001b[0m\u001b[0;34m\u001b[0m\u001b[0m\n\u001b[1;32m     16\u001b[0m         \u001b[0;31m#print(\"after new outframe time is:\"+str(time.time()-time_start))\u001b[0m\u001b[0;34m\u001b[0m\u001b[0;34m\u001b[0m\u001b[0m\n",
      "\u001b[0;31mKeyboardInterrupt\u001b[0m: "
     ]
    }
   ],
   "source": [
    "time_start=time.time()\n",
    "time_last=0\n",
    "i=1\n",
    "x_last=0\n",
    "y_last=0\n",
    "while(cap.isOpened()):\n",
    "    time_start=time.time()\n",
    "    ret, frame = cap.read()\n",
    "    #print(\"after read time is:\"+str(time.time()-time_start))\n",
    "    if (ret):      \n",
    "        time_last=time_start\n",
    "        time_start=time.time()\n",
    "        \n",
    "        image=cv2.resize(frame,(int(640*scale),400))\n",
    "        outframe = hdmi_out.newframe()\n",
    "        #print(\"after new outframe time is:\"+str(time.time()-time_start))\n",
    "        img_gray=cv2.cvtColor(image, cv2.COLOR_RGB2GRAY)\n",
    "        #print(\"after cvtgray time is:\"+str(time.time()-time_start))\n",
    "        car_plates = cascade.detectMultiScale(img_gray, 1.1, 2, minSize=(36, 9), maxSize=(36 * 40, 9 * 40))\n",
    "        #print(\"after mul time is:\"+str(time.time()-time_start))\n",
    "        for car_plate in car_plates:\n",
    "            x, y, w, h = car_plate\n",
    "            #plate = image[y: y + h, x: x + w]\n",
    "            #if(isPlate(plate)==False):#根据颜色判断是否是正确的车牌区域\n",
    "            #    continue\n",
    "            #if(access_pixels(plate)==False):#根据颜色判断是否是正确的车牌区域\n",
    "            #    continue\n",
    "            #print('accessPlate time:',time.time()-time_start,'s')\n",
    "            #print('time cost:',time.time()-time_start,'s')\n",
    "            #标出粗定位的车牌\n",
    "            cv2.rectangle(image, (x - 10, y - 10), (x + w + 10, y + h + 10), (255, 255, 255), 1)\n",
    "            plateScale=(w/PLATE_WIDTH)\n",
    "            v=(math.sqrt((x-x_last)*(x-x_last)+(y-y_last)*(y-y_last))/(time_start-time_last)/plateScale)/i\n",
    "            x_last=x\n",
    "            y_last=y\n",
    "            i=0\n",
    "            \n",
    "            cv2.putText(image,\"Vehicle Velocity:\"+str(v)+\" m/s\",(10,image.shape[0]-10),cv2.FONT_HERSHEY_PLAIN, 2.0, (0, 0, 255), 2)\n",
    "        \n",
    "        image=cv2.resize(image,(640,480))\n",
    "        outframe[0:640,0:480,:] = image[0:640,0:480,:]\n",
    "        #print(\"after copy time is:\"+str(time.time()-time_start))\n",
    "        \n",
    "        hdmi_out.writeframe(outframe)\n",
    "        #print(\"after write time is:\"+str(time.time()-time_start))\n",
    "        i+=1\n",
    "        \n",
    "       \n",
    "    else:\n",
    "        raise RuntimeError(\"Failed to read from camera.\")"
   ]
  },
  {
   "cell_type": "code",
   "execution_count": null,
   "metadata": {},
   "outputs": [],
   "source": []
  }
 ],
 "metadata": {
  "kernelspec": {
   "display_name": "Python 3",
   "language": "python",
   "name": "python3"
  },
  "language_info": {
   "codemirror_mode": {
    "name": "ipython",
    "version": 3
   },
   "file_extension": ".py",
   "mimetype": "text/x-python",
   "name": "python",
   "nbconvert_exporter": "python",
   "pygments_lexer": "ipython3",
   "version": "3.6.5"
  }
 },
 "nbformat": 4,
 "nbformat_minor": 2
}
